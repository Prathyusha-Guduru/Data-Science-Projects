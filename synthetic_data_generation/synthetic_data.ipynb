{
 "cells": [
  {
   "cell_type": "code",
   "execution_count": 4,
   "metadata": {},
   "outputs": [],
   "source": [
    "import pandas as pd\n",
    "import numpy as np\n",
    "import random "
   ]
  },
  {
   "cell_type": "code",
   "execution_count": 13,
   "metadata": {},
   "outputs": [
    {
     "data": {
      "text/html": [
       "<div>\n",
       "<style scoped>\n",
       "    .dataframe tbody tr th:only-of-type {\n",
       "        vertical-align: middle;\n",
       "    }\n",
       "\n",
       "    .dataframe tbody tr th {\n",
       "        vertical-align: top;\n",
       "    }\n",
       "\n",
       "    .dataframe thead th {\n",
       "        text-align: right;\n",
       "    }\n",
       "</style>\n",
       "<table border=\"1\" class=\"dataframe\">\n",
       "  <thead>\n",
       "    <tr style=\"text-align: right;\">\n",
       "      <th></th>\n",
       "      <th>Order ID</th>\n",
       "      <th>Product</th>\n",
       "      <th>Quantity Ordered</th>\n",
       "      <th>Price Each</th>\n",
       "      <th>Order Date</th>\n",
       "      <th>Purchase Address</th>\n",
       "    </tr>\n",
       "  </thead>\n",
       "  <tbody>\n",
       "    <tr>\n",
       "      <th>0</th>\n",
       "      <td>176558</td>\n",
       "      <td>USB-C Charging Cable</td>\n",
       "      <td>2</td>\n",
       "      <td>11.95</td>\n",
       "      <td>04/19/19 08:46</td>\n",
       "      <td>917 1st St, Dallas, TX 75001</td>\n",
       "    </tr>\n",
       "    <tr>\n",
       "      <th>1</th>\n",
       "      <td>NaN</td>\n",
       "      <td>NaN</td>\n",
       "      <td>NaN</td>\n",
       "      <td>NaN</td>\n",
       "      <td>NaN</td>\n",
       "      <td>NaN</td>\n",
       "    </tr>\n",
       "    <tr>\n",
       "      <th>2</th>\n",
       "      <td>176559</td>\n",
       "      <td>Bose SoundSport Headphones</td>\n",
       "      <td>1</td>\n",
       "      <td>99.99</td>\n",
       "      <td>04/07/19 22:30</td>\n",
       "      <td>682 Chestnut St, Boston, MA 02215</td>\n",
       "    </tr>\n",
       "    <tr>\n",
       "      <th>3</th>\n",
       "      <td>176560</td>\n",
       "      <td>Google Phone</td>\n",
       "      <td>1</td>\n",
       "      <td>600</td>\n",
       "      <td>04/12/19 14:38</td>\n",
       "      <td>669 Spruce St, Los Angeles, CA 90001</td>\n",
       "    </tr>\n",
       "    <tr>\n",
       "      <th>4</th>\n",
       "      <td>176560</td>\n",
       "      <td>Wired Headphones</td>\n",
       "      <td>1</td>\n",
       "      <td>11.99</td>\n",
       "      <td>04/12/19 14:38</td>\n",
       "      <td>669 Spruce St, Los Angeles, CA 90001</td>\n",
       "    </tr>\n",
       "  </tbody>\n",
       "</table>\n",
       "</div>"
      ],
      "text/plain": [
       "  Order ID                     Product Quantity Ordered Price Each  \\\n",
       "0   176558        USB-C Charging Cable                2      11.95   \n",
       "1      NaN                         NaN              NaN        NaN   \n",
       "2   176559  Bose SoundSport Headphones                1      99.99   \n",
       "3   176560                Google Phone                1        600   \n",
       "4   176560            Wired Headphones                1      11.99   \n",
       "\n",
       "       Order Date                      Purchase Address  \n",
       "0  04/19/19 08:46          917 1st St, Dallas, TX 75001  \n",
       "1             NaN                                   NaN  \n",
       "2  04/07/19 22:30     682 Chestnut St, Boston, MA 02215  \n",
       "3  04/12/19 14:38  669 Spruce St, Los Angeles, CA 90001  \n",
       "4  04/12/19 14:38  669 Spruce St, Los Angeles, CA 90001  "
      ]
     },
     "execution_count": 13,
     "metadata": {},
     "output_type": "execute_result"
    }
   ],
   "source": [
    "df = pd.read_csv('../Sales_Data/Sales_April_2019.csv')\n",
    "df.head()"
   ]
  },
  {
   "cell_type": "code",
   "execution_count": 145,
   "metadata": {},
   "outputs": [
    {
     "name": "stdout",
     "output_type": "stream",
     "text": [
      "17\n"
     ]
    }
   ],
   "source": [
    "d = df[\"Quantity Ordered\"]\n",
    "d = list(d)\n",
    "n = 10\n",
    "l = []\n",
    "for i in range(10):\n",
    "\t# r = random.randint(0,20)\n",
    "\td.append(random.randint(0,20))\n",
    "for x,y in enumerate(d):\n",
    "\tif y==0: \n",
    "\t\tprint(y)\n",
    "\t\td[x] = random.randint(1,19)\n",
    "\n"
   ]
  },
  {
   "cell_type": "markdown",
   "metadata": {},
   "source": [
    "# Enumerate function \n",
    "\n",
    "Adds counter to an iterable and returns it in the form of a enumerating object. To print the data, we need to convert the enumerating object into a list. "
   ]
  },
  {
   "cell_type": "code",
   "execution_count": 19,
   "metadata": {},
   "outputs": [
    {
     "name": "stdout",
     "output_type": "stream",
     "text": [
      "[(0, 'a'), (1, 'b'), (2, 'c'), (3, 'd'), (4, 'e'), (5, 'f')]\n"
     ]
    }
   ],
   "source": [
    "\n",
    "l = ['a','b','c','d','e','f']\n",
    "print(list(enumerate(l,0)))"
   ]
  },
  {
   "cell_type": "code",
   "execution_count": 42,
   "metadata": {},
   "outputs": [
    {
     "name": "stdout",
     "output_type": "stream",
     "text": [
      "[0 1 0 1 0]\n",
      "0 0\n",
      "1 1\n",
      "2 0\n",
      "3 1\n",
      "4 0\n"
     ]
    }
   ],
   "source": [
    "n = 5\n",
    "arr = np.random.randint(0,2,size=5)\n",
    "print(arr)\n",
    "for n,i in enumerate(arr):\n",
    "\tprint(n,i)"
   ]
  },
  {
   "cell_type": "code",
   "execution_count": 46,
   "metadata": {},
   "outputs": [
    {
     "name": "stdout",
     "output_type": "stream",
     "text": [
      "sampl_array is [1 1 0 1 1]\n",
      "n = 0, i = 1\n",
      "\n",
      "n = 1, i = 1\n",
      "\n",
      "n = 2, i = 0\n",
      "\n",
      "n = 3, i = 1\n",
      "\n",
      "n = 4, i = 1\n",
      "\n",
      "sampl is [1, 1, 0, 0, 1]\n",
      "sampl_array is [0 1 0 1 1]\n",
      "n = 0, i = 0\n",
      "\n",
      "n = 1, i = 1\n",
      "\n",
      "n = 2, i = 0\n",
      "\n",
      "n = 3, i = 1\n",
      "\n",
      "n = 4, i = 1\n",
      "\n",
      "sampl is [0, 1, 0, 1, 0]\n",
      "sampl_array is [1 1 1 1 0]\n",
      "n = 0, i = 1\n",
      "\n",
      "n = 1, i = 1\n",
      "\n",
      "n = 2, i = 1\n",
      "\n",
      "n = 3, i = 1\n",
      "\n",
      "n = 4, i = 0\n",
      "\n",
      "sampl is [0, 0, 1, 0, 0]\n",
      "sampl_array is [1 0 1 0 1]\n",
      "n = 0, i = 1\n",
      "\n",
      "n = 1, i = 0\n",
      "\n",
      "n = 2, i = 1\n",
      "\n",
      "n = 3, i = 0\n",
      "\n",
      "n = 4, i = 1\n",
      "\n",
      "sampl is [0, 0, 0, 0, 0]\n",
      "sampl_array is [1 1 0 1 1]\n",
      "n = 0, i = 1\n",
      "\n",
      "n = 1, i = 1\n",
      "\n",
      "n = 2, i = 0\n",
      "\n",
      "n = 3, i = 1\n",
      "\n",
      "n = 4, i = 1\n",
      "\n",
      "sampl is [1, 1, 0, 0, 0]\n",
      "[1 1 0 0 0]\n"
     ]
    }
   ],
   "source": [
    "\n",
    "    for i in range(5):        \n",
    "        sampl_array = np.random.randint(0,2, size=5)\n",
    "        print(f\"sampl_array is {sampl_array}\")\n",
    "        for n, i in enumerate(sampl_array):\n",
    "            print(f\"n = {n}, i = {i}\\n\")\n",
    "            if i == 1:\n",
    "                sampl_array[n] = random.randint(0,1)\n",
    "            elif i == 2:\n",
    "                sampl_array[n] = random.randint(0,1)\n",
    "            else:\n",
    "                continue\n",
    "        \n",
    "        sampl = sampl_array.tolist()\n",
    "        print(f\"sampl is {sampl}\")\n",
    "print(sampl_array)"
   ]
  },
  {
   "cell_type": "code",
   "execution_count": null,
   "metadata": {},
   "outputs": [],
   "source": []
  },
  {
   "cell_type": "code",
   "execution_count": 82,
   "metadata": {},
   "outputs": [
    {
     "name": "stdout",
     "output_type": "stream",
     "text": [
      "[4, 0, 7, 2, 9]\n",
      "[1, 2, 4, 5, 6, 4, 0, 7, 2, 9]\n"
     ]
    }
   ],
   "source": [
    "l = [1,2,4,5,6]\n",
    "l1 = random.sample(range(0,10),k=5)\n",
    "print(l1)\n",
    "l += l1\n",
    "print(l)\n"
   ]
  }
 ],
 "metadata": {
  "interpreter": {
   "hash": "0ba1f6258c9fa5fb0c231fed128883c8b7e548edbadd4b1a8a40937ca4990807"
  },
  "kernelspec": {
   "display_name": "Python 3.9.7 64-bit ('ds': conda)",
   "language": "python",
   "name": "python3"
  },
  "language_info": {
   "codemirror_mode": {
    "name": "ipython",
    "version": 3
   },
   "file_extension": ".py",
   "mimetype": "text/x-python",
   "name": "python",
   "nbconvert_exporter": "python",
   "pygments_lexer": "ipython3",
   "version": "3.8.12"
  },
  "orig_nbformat": 4
 },
 "nbformat": 4,
 "nbformat_minor": 2
}
